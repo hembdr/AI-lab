{
  "nbformat": 4,
  "nbformat_minor": 0,
  "metadata": {
    "colab": {
      "provenance": [],
      "gpuType": "T4",
      "authorship_tag": "ABX9TyMoKM6U6x6wHGt0mJI+K0vW",
      "include_colab_link": true
    },
    "kernelspec": {
      "name": "python3",
      "display_name": "Python 3"
    },
    "language_info": {
      "name": "python"
    },
    "accelerator": "GPU"
  },
  "cells": [
    {
      "cell_type": "markdown",
      "metadata": {
        "id": "view-in-github",
        "colab_type": "text"
      },
      "source": [
        "<a href=\"https://colab.research.google.com/github/hembdr/AI-lab/blob/main/Untitled1.ipynb\" target=\"_parent\"><img src=\"https://colab.research.google.com/assets/colab-badge.svg\" alt=\"Open In Colab\"/></a>"
      ]
    },
    {
      "cell_type": "markdown",
      "source": [
        "Check Palindrome\n"
      ],
      "metadata": {
        "id": "e1rYGG2TlGLq"
      }
    },
    {
      "cell_type": "code",
      "execution_count": 2,
      "metadata": {
        "colab": {
          "base_uri": "https://localhost:8080/"
        },
        "id": "IOYE1kPvkaFG",
        "outputId": "3e786d2b-4851-4a4d-9bb9-71cb79012ded"
      },
      "outputs": [
        {
          "output_type": "stream",
          "name": "stdout",
          "text": [
            "Enter Number:42624\n",
            "Palindrome\n"
          ]
        }
      ],
      "source": [
        "def checkPalindrome(x):\n",
        "  x=str(x)\n",
        "  y=x[::-1]\n",
        "  if(x==y):\n",
        "    return True\n",
        "  else:\n",
        "    return False\n",
        "x=checkPalindrome(int(input(\"Enter Number:\")))\n",
        "if(x==True):\n",
        "  print(\"Palindrome\")\n",
        "else:\n",
        "  print(\"Not Palindome\")"
      ]
    },
    {
      "cell_type": "markdown",
      "source": [
        "Fibonacci series\n"
      ],
      "metadata": {
        "id": "GBx8axdSlPI9"
      }
    },
    {
      "cell_type": "code",
      "source": [
        "def fibonacci(x):\n",
        "    fib_sequence = [0, 1]\n",
        "\n",
        "    for i in range(2, x):\n",
        "        next_fib = fib_sequence[-1] + fib_sequence[-2]\n",
        "        fib_sequence.append(next_fib)\n",
        "\n",
        "    print(f\"Fibonacci sequence up to {x}:\", fib_sequence)\n",
        "\n",
        "fibonacci(int(input(\"Enter Number: \")))"
      ],
      "metadata": {
        "colab": {
          "base_uri": "https://localhost:8080/"
        },
        "id": "2deAz6_ik9t5",
        "outputId": "1065c4b5-8055-40bb-f4fe-70fa93cbe7e8"
      },
      "execution_count": 3,
      "outputs": [
        {
          "output_type": "stream",
          "name": "stdout",
          "text": [
            "Enter Number: 7\n",
            "Fibonacci sequence up to 7: [0, 1, 1, 2, 3, 5, 8]\n"
          ]
        }
      ]
    },
    {
      "cell_type": "markdown",
      "source": [
        "Guessing Game"
      ],
      "metadata": {
        "id": "ByB82CH5lamp"
      }
    },
    {
      "cell_type": "code",
      "source": [
        "import random\n",
        "def rand():\n",
        "  a=random.randint(1,100)\n",
        "  return a\n",
        "def ask():\n",
        "  x=int(input(\"Guess Integer between 1-100: \"))\n",
        "  return x\n",
        "def game():\n",
        "  n=0\n",
        "  a=rand()\n",
        "  x=ask()\n",
        "  while(n==0):\n",
        "    if(a==x):\n",
        "      print(f\"you guess the correct number:{x}\")\n",
        "      n=1\n",
        "    elif(x<a):\n",
        "      if((a-x)>5):\n",
        "        print(\"you number to low\")\n",
        "        x=ask()\n",
        "      else:\n",
        "        print(\"you are close\")\n",
        "        x=ask()\n",
        "    elif(x>a):\n",
        "      if((x-a)>5):\n",
        "        print(\"you number to high\")\n",
        "        x=ask()\n",
        "      else:\n",
        "        print(\"you are close\")\n",
        "        x=ask()\n",
        "game()"
      ],
      "metadata": {
        "colab": {
          "base_uri": "https://localhost:8080/"
        },
        "id": "OjYdhzFYk9ja",
        "outputId": "486e7eb8-b664-433d-b367-4c8ba3170a1c"
      },
      "execution_count": 6,
      "outputs": [
        {
          "output_type": "stream",
          "name": "stdout",
          "text": [
            "Guess Integer between 1-100: 20\n",
            "you number to low\n",
            "Guess Integer between 1-100: 5\n",
            "you number to low\n",
            "Guess Integer between 1-100: 70\n",
            "you number to high\n",
            "Guess Integer between 1-100: 50\n",
            "you number to high\n",
            "Guess Integer between 1-100: 12\n",
            "you number to low\n",
            "Guess Integer between 1-100: 48\n",
            "you number to high\n",
            "Guess Integer between 1-100: 20\n",
            "you number to low\n",
            "Guess Integer between 1-100: 30\n",
            "you number to low\n",
            "Guess Integer between 1-100: 40\n",
            "you are close\n",
            "Guess Integer between 1-100: 45\n",
            "you are close\n",
            "Guess Integer between 1-100: 48\n",
            "you number to high\n",
            "Guess Integer between 1-100: 46\n",
            "you are close\n",
            "Guess Integer between 1-100: 47\n",
            "you number to high\n",
            "Guess Integer between 1-100: 42\n",
            "you are close\n",
            "Guess Integer between 1-100: 43\n",
            "you are close\n",
            "Guess Integer between 1-100: 44\n",
            "you are close\n",
            "Guess Integer between 1-100: 41\n",
            "you guess the correct number:41\n"
          ]
        }
      ]
    },
    {
      "cell_type": "markdown",
      "source": [
        "Prime Number"
      ],
      "metadata": {
        "id": "wLeYXodDlu6V"
      }
    },
    {
      "cell_type": "code",
      "source": [
        "def prime(x,y):\n",
        "  for i in range(x,y+1):\n",
        "    j=2\n",
        "    while(j<i):\n",
        "      if(i%j==0):\n",
        "        break\n",
        "      j=j+1\n",
        "    if(i==j):\n",
        "      print(i)\n",
        "prime(1,10)"
      ],
      "metadata": {
        "colab": {
          "base_uri": "https://localhost:8080/"
        },
        "id": "UsKnLX7ak9Yc",
        "outputId": "9927042b-31b4-41e4-e218-bc9d5c4a677f"
      },
      "execution_count": 8,
      "outputs": [
        {
          "output_type": "stream",
          "name": "stdout",
          "text": [
            "2\n",
            "3\n",
            "5\n",
            "7\n"
          ]
        }
      ]
    }
  ]
}